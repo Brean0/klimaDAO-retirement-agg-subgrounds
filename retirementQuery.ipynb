{
 "cells": [
  {
   "cell_type": "code",
   "execution_count": 2,
   "metadata": {},
   "outputs": [
    {
     "ename": "ImportError",
     "evalue": "cannot import name 'Subgrounds' from 'subgrounds' (c:\\Users\\Brian\\AppData\\Local\\Programs\\Python\\Python310\\lib\\site-packages\\subgrounds\\__init__.py)",
     "output_type": "error",
     "traceback": [
      "\u001b[1;31m---------------------------------------------------------------------------\u001b[0m",
      "\u001b[1;31mImportError\u001b[0m                               Traceback (most recent call last)",
      "\u001b[1;32mc:\\Users\\Brian\\Desktop\\Dev\\klimaDAO-retirement-agg-subgrounds\\retirementQuery.ipynb Cell 1\u001b[0m in \u001b[0;36m<cell line: 1>\u001b[1;34m()\u001b[0m\n\u001b[1;32m----> <a href='vscode-notebook-cell:/c%3A/Users/Brian/Desktop/Dev/klimaDAO-retirement-agg-subgrounds/retirementQuery.ipynb#W0sZmlsZQ%3D%3D?line=0'>1</a>\u001b[0m \u001b[39mfrom\u001b[39;00m \u001b[39msubgrounds\u001b[39;00m \u001b[39mimport\u001b[39;00m Subgrounds\n\u001b[0;32m      <a href='vscode-notebook-cell:/c%3A/Users/Brian/Desktop/Dev/klimaDAO-retirement-agg-subgrounds/retirementQuery.ipynb#W0sZmlsZQ%3D%3D?line=1'>2</a>\u001b[0m sg \u001b[39m=\u001b[39m Subgrounds()\n\u001b[0;32m      <a href='vscode-notebook-cell:/c%3A/Users/Brian/Desktop/Dev/klimaDAO-retirement-agg-subgrounds/retirementQuery.ipynb#W0sZmlsZQ%3D%3D?line=2'>3</a>\u001b[0m aaveV2 \u001b[39m=\u001b[39m sg\u001b[39m.\u001b[39mload_subgraph(\u001b[39m'\u001b[39m\u001b[39mhttps://api.thegraph.com/subgraphs/name/aave/protocol-v2\u001b[39m\u001b[39m'\u001b[39m)\n",
      "\u001b[1;31mImportError\u001b[0m: cannot import name 'Subgrounds' from 'subgrounds' (c:\\Users\\Brian\\AppData\\Local\\Programs\\Python\\Python310\\lib\\site-packages\\subgrounds\\__init__.py)"
     ]
    }
   ],
   "source": [
    "from subgrounds.subgrounds import Subgrounds\n",
    "sg = Subgrounds()\n",
    "aaveV2 = sg.load_subgraph('https://api.thegraph.com/subgraphs/name/aave/protocol-v2')\n",
    "aaveV2.Borrow.adjusted_amount = aaveV2.Borrow.amount / 10 ** aaveV2.Borrow.reserve.decimals\n",
    "last10_borrows = aaveV2.Query.borrows(\n",
    "    orderBy=aaveV2.Borrow.timestamp,\n",
    "    orderDirection='desc',\n",
    "    first=10\n",
    ")\n",
    "\n",
    "sg.query_df([\n",
    "  last10_borrows.reserve.symbol, \n",
    "  last10_borrows.timestamp,\n",
    "  last10_borrows.adjusted_amount\n",
    "])"
   ]
  }
 ],
 "metadata": {
  "kernelspec": {
   "display_name": "Python 3.10.0 64-bit",
   "language": "python",
   "name": "python3"
  },
  "language_info": {
   "codemirror_mode": {
    "name": "ipython",
    "version": 3
   },
   "file_extension": ".py",
   "mimetype": "text/x-python",
   "name": "python",
   "nbconvert_exporter": "python",
   "pygments_lexer": "ipython3",
   "version": "3.10.0"
  },
  "orig_nbformat": 4,
  "vscode": {
   "interpreter": {
    "hash": "d7c99dddd7c90bd1e94e97ec021906d14c06adc1adfe8a369747ed41b4b3d9ca"
   }
  }
 },
 "nbformat": 4,
 "nbformat_minor": 2
}
